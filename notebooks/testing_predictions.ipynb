{
 "cells": [
  {
   "cell_type": "code",
   "execution_count": 1,
   "metadata": {},
   "outputs": [
    {
     "name": "stdout",
     "output_type": "stream",
     "text": [
      "Project directory (ROOT_DIR): '/home/esowc21/aq-biascorrection'\n"
     ]
    }
   ],
   "source": [
    "import pandas as pd\n",
    "\n",
    "from src.visualization.show_results import ResultsPlotter, get_all_locations, interactive_viz\n",
    "from ipywidgets import interactive, widgets\n"
   ]
  },
  {
   "cell_type": "markdown",
   "metadata": {},
   "source": [
    "# Titulo\n",
    "```math\n",
    "$\\mu g / m^2$\n",
    "```"
   ]
  },
  {
   "cell_type": "code",
   "execution_count": 2,
   "metadata": {},
   "outputs": [],
   "source": [
    "var_widget = widgets.Dropdown(\n",
    "    options=['pm25', 'no2', 'o3'],\n",
    "    value='pm25',\n",
    "    display='flex',\n",
    "    flex_flow='column',\n",
    "    align_items='stretch', \n",
    "    layout = {'width': 'auto'},\n",
    "    description='Variable:'\n",
    ")\n",
    "loc_widget = widgets.Combobox(\n",
    "    options=get_all_locations(), \n",
    "    value=\"Glasgow\",\n",
    "    display='flex',\n",
    "    flex_flow='column',\n",
    "    align_items='stretch', \n",
    "    layout = {'width': 'auto'},\n",
    "    ensure_option=True,\n",
    "    description=\"Location\"\n",
    ")\n",
    "\n",
    "selection_range_slider = widgets.SelectionRangeSlider(\n",
    "    options=[\"\"],\n",
    "    description='Dates',\n",
    "    orientation='horizontal',\n",
    "    layout={'width': '520px'}\n",
    ")"
   ]
  },
  {
   "cell_type": "code",
   "execution_count": 3,
   "metadata": {},
   "outputs": [],
   "source": [
    "def get_date_range(*args):\n",
    "    start_date, end_date = \"2019-06-01\", \"2021-03-31\"\n",
    "    dates = pd.date_range(start_date, end_date, freq='D')\n",
    "    options = [(date.strftime(' %-d %b %Y '), date) for date in dates]\n",
    "    selection_range_slider.options = options  # ' %d %b %Y '\n",
    "    selection_range_slider.index = (0, len(options) - 1)\n",
    "get_date_range()\n",
    "\n",
    "loc_widget.observe(get_date_range, 'value')"
   ]
  },
  {
   "cell_type": "code",
   "execution_count": 4,
   "metadata": {},
   "outputs": [
    {
     "data": {
      "application/vnd.jupyter.widget-view+json": {
       "model_id": "42d6001adb594c24b41776919e069e14",
       "version_major": 2,
       "version_minor": 0
      },
      "text/plain": [
       "VBox(children=(HBox(children=(Combobox(value='Glasgow', description='Location', ensure_option=True, layout=Lay…"
      ]
     },
     "metadata": {},
     "output_type": "display_data"
    }
   ],
   "source": [
    "plot = widgets.interactive_output(\n",
    "    interactive_viz, \n",
    "    {'varname': var_widget, 'station': loc_widget, 'date_range': selection_range_slider}\n",
    ")\n",
    "\n",
    "widgets.VBox([\n",
    "    widgets.HBox([loc_widget, var_widget, selection_range_slider]), \n",
    "    plot\n",
    "])"
   ]
  },
  {
   "cell_type": "code",
   "execution_count": null,
   "metadata": {},
   "outputs": [],
   "source": []
  }
 ],
 "metadata": {
  "interpreter": {
   "hash": "47947770bae9c8bce62759319eb03820204125cae1d536eeee149e39ac21495a"
  },
  "kernelspec": {
   "display_name": "Python 3 (ipykernel)",
   "language": "python",
   "name": "python3"
  },
  "language_info": {
   "codemirror_mode": {
    "name": "ipython",
    "version": 3
   },
   "file_extension": ".py",
   "mimetype": "text/x-python",
   "name": "python",
   "nbconvert_exporter": "python",
   "pygments_lexer": "ipython3",
   "version": "3.9.5"
  }
 },
 "nbformat": 4,
 "nbformat_minor": 2
}
