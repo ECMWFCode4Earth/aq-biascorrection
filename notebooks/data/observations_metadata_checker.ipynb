{
 "cells": [
  {
   "cell_type": "code",
   "execution_count": 1,
   "id": "forward-franklin",
   "metadata": {},
   "outputs": [],
   "source": [
    "import xarray as xr\n",
    "import glob\n",
    "import datetime\n",
    "import pandas as pd\n",
    "from pathlib import Path\n",
    "import numpy as np\n",
    "import warnings"
   ]
  },
  {
   "cell_type": "code",
   "execution_count": 2,
   "id": "excited-module",
   "metadata": {},
   "outputs": [],
   "source": [
    "warnings.filterwarnings('ignore')"
   ]
  },
  {
   "cell_type": "code",
   "execution_count": 3,
   "id": "meaning-closure",
   "metadata": {},
   "outputs": [],
   "source": [
    "files_observations_pm25 = glob.glob('../../data/interim/observations/*/*/*/pm25/*.nc')"
   ]
  },
  {
   "cell_type": "code",
   "execution_count": 4,
   "id": "secondary-illness",
   "metadata": {},
   "outputs": [],
   "source": [
    "def check_number_of_stations_and_distances(ds):\n",
    "    number_stations = len(ds.station_id.values)\n",
    "    try:\n",
    "        distances = [round(x, 2) for x in ds.distance.values]\n",
    "    except:\n",
    "        distances = [round(x, 2) for x in [float(ds.distance.values)]]\n",
    "    return number_stations, distances\n",
    "\n",
    "def check_available_percentage_of_times(ds):\n",
    "    ds = ds.mean('station_id').resample(time='1H').mean(skipna=False)\n",
    "    length_of_times = len(ds.time.values)\n",
    "    user_dates = pd.date_range(\n",
    "        pd.to_datetime('2019-06-01'),\n",
    "        pd.to_datetime('2021-03-31'),\n",
    "        freq='H'\n",
    "    )\n",
    "    return round(100 * length_of_times / len(user_dates), 2)"
   ]
  },
  {
   "cell_type": "code",
   "execution_count": 5,
   "id": "reported-remedy",
   "metadata": {},
   "outputs": [],
   "source": [
    "data_pm25 = []\n",
    "for file in files_observations_pm25:\n",
    "    dict_data = {\n",
    "        \"file\": None,\n",
    "        \"number_stations\": None,\n",
    "        \"distances\": None,\n",
    "        \"percentage_of_data\": None\n",
    "    }\n",
    "    file_name = Path(file).name\n",
    "    dict_data[\"file\"] = file_name\n",
    "    d = xr.open_dataset(file)\n",
    "    number_stations, distances = check_number_of_stations_and_distances(d)\n",
    "    percentage_of_available_data = check_available_percentage_of_times(d)\n",
    "    dict_data[\"number_stations\"] = number_stations\n",
    "    dict_data[\"distances\"] = distances\n",
    "    dict_data[\"percentage_of_data\"] = percentage_of_available_data\n",
    "    data_pm25.append(dict_data)"
   ]
  },
  {
   "cell_type": "code",
   "execution_count": 6,
   "id": "above-aurora",
   "metadata": {},
   "outputs": [],
   "source": [
    "import json\n",
    "with open('observations_metadata_pm25.json', 'w') as f:\n",
    "    json.dump(data_pm25, f)"
   ]
  },
  {
   "cell_type": "code",
   "execution_count": 7,
   "id": "federal-johns",
   "metadata": {},
   "outputs": [],
   "source": [
    "files_observations_no2 = glob.glob('../../data/interim/observations/*/*/*/no2/*.nc')"
   ]
  },
  {
   "cell_type": "code",
   "execution_count": 9,
   "id": "palestinian-uncle",
   "metadata": {},
   "outputs": [],
   "source": [
    "data_no2 = []\n",
    "for file in files_observations_no2:\n",
    "    dict_data = {\n",
    "        \"file\": None,\n",
    "        \"number_stations\": None,\n",
    "        \"distances\": None,\n",
    "        \"percentage_of_data\": None\n",
    "    }\n",
    "    file_name = Path(file).name\n",
    "    dict_data[\"file\"] = file_name\n",
    "    d = xr.open_dataset(file)\n",
    "    number_stations, distances = check_number_of_stations_and_distances(d)\n",
    "    percentage_of_available_data = check_available_percentage_of_times(d)\n",
    "    dict_data[\"number_stations\"] = number_stations\n",
    "    dict_data[\"distances\"] = distances\n",
    "    dict_data[\"percentage_of_data\"] = percentage_of_available_data\n",
    "    data_no2.append(dict_data)"
   ]
  },
  {
   "cell_type": "code",
   "execution_count": 10,
   "id": "russian-moral",
   "metadata": {},
   "outputs": [],
   "source": [
    "import json\n",
    "with open('observations_metadata_no2.json', 'w') as f:\n",
    "    json.dump(data_no2, f)"
   ]
  },
  {
   "cell_type": "code",
   "execution_count": 11,
   "id": "ahead-given",
   "metadata": {},
   "outputs": [],
   "source": [
    "files_observations_o3 = glob.glob('../../data/interim/observations/*/*/*/o3/*.nc')"
   ]
  },
  {
   "cell_type": "code",
   "execution_count": 12,
   "id": "ranking-chuck",
   "metadata": {},
   "outputs": [],
   "source": [
    "data_o3 = []\n",
    "for file in files_observations_o3:\n",
    "    dict_data = {\n",
    "        \"file\": None,\n",
    "        \"number_stations\": None,\n",
    "        \"distances\": None,\n",
    "        \"percentage_of_data\": None\n",
    "    }\n",
    "    file_name = Path(file).name\n",
    "    dict_data[\"file\"] = file_name\n",
    "    d = xr.open_dataset(file)\n",
    "    number_stations, distances = check_number_of_stations_and_distances(d)\n",
    "    percentage_of_available_data = check_available_percentage_of_times(d)\n",
    "    dict_data[\"number_stations\"] = number_stations\n",
    "    dict_data[\"distances\"] = distances\n",
    "    dict_data[\"percentage_of_data\"] = percentage_of_available_data\n",
    "    data_o3.append(dict_data)"
   ]
  },
  {
   "cell_type": "code",
   "execution_count": 13,
   "id": "neither-selling",
   "metadata": {},
   "outputs": [],
   "source": [
    "import json\n",
    "with open('observations_metadata_o3.json', 'w') as f:\n",
    "    json.dump(data_o3, f)"
   ]
  },
  {
   "cell_type": "code",
   "execution_count": null,
   "id": "expensive-holocaust",
   "metadata": {},
   "outputs": [],
   "source": []
  }
 ],
 "metadata": {
  "kernelspec": {
   "display_name": "Python 3",
   "language": "python",
   "name": "python3"
  },
  "language_info": {
   "codemirror_mode": {
    "name": "ipython",
    "version": 3
   },
   "file_extension": ".py",
   "mimetype": "text/x-python",
   "name": "python",
   "nbconvert_exporter": "python",
   "pygments_lexer": "ipython3",
   "version": "3.7.3"
  }
 },
 "nbformat": 4,
 "nbformat_minor": 5
}
